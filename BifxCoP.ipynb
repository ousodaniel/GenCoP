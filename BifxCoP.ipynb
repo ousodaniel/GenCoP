{
 "cells": [
  {
   "cell_type": "markdown",
   "id": "b053384d-429c-492d-af60-b5ac2d1f45ca",
   "metadata": {},
   "source": [
    "## $3^{rd}$ Generation Genomics and Bioinformatics Workshop\n",
    "\n",
    "01 July 2021"
   ]
  },
  {
   "cell_type": "markdown",
   "id": "0774f802-4796-4b31-8fda-976d9b9cde6f",
   "metadata": {},
   "source": [
    "### Modules\n",
    "\n",
    "- Module 1: Unix/Linux programming - proficiency with the command line (14th - 25th of June, excluding weekends)\n",
    "\n",
    "- Module 2: Python programming (28th of June - 8th of July, excluding weekends)\n",
    "\n",
    "- Module 3: Molecular biology - DNA extraction protocols, purification, QC (12th - 14th of July)\n",
    "\n",
    "- Module 4: 2nd and 3rd generation sequencing platforms (15th - 16th of July)\n",
    "\n",
    "- Module 5: Nanopore library prep (19th - 20th of July)\n",
    "\n",
    "- Module 6: Theory and practice of genome/transcriptome assembly (21st - 27th of July, excluding weekends)\n",
    "\n",
    "- Module 7: Genome annotation (28th - 30th of July)\n",
    "\n",
    "- Soft Skill Workshop: communication and project management (9th of July)"
   ]
  },
  {
   "cell_type": "markdown",
   "id": "cc603985-6480-4dfe-92da-07c7464acc9f",
   "metadata": {},
   "source": [
    "## **Module 1**"
   ]
  },
  {
   "cell_type": "markdown",
   "id": "2e6364cc-07bf-4225-b630-0af6bed51f94",
   "metadata": {},
   "source": [
    "### ***Exercise 1***\n",
    "14 Jun 2021"
   ]
  },
  {
   "cell_type": "markdown",
   "id": "c92439c6-e468-4c63-9cbc-63a466e9c3de",
   "metadata": {},
   "source": [
    "## Basic commandline exercises: filesystem, cd and moving files, etc\n",
    "\n",
    "In most cases, the questions below are independent of each other. Many questions accept different ways to address them (which means several \"right answers\").\n",
    "\n",
    "1. Suppose your current working directory is `/home/jb/Linux/Exercises/`. What is the command that will enable you to move to `/home/jb/Fun_stuff/`?\n",
    "\n",
    "`cd ; cd Fun_stuff/`\n",
    "\n",
    "2. How do you count the number of lines contained in a text file?\n",
    "\n",
    "`wc -l text_file`\n",
    "\n",
    "3. You are in `/home/jb/`. Suppose this directory is empty. How do you create in only one command the whole path `/home/jb/Work/Sequencing/ONT/`?\n",
    "\n",
    "`mkdir /home/jb/Work/Sequencing/ONT`\n",
    "\n",
    "4. How do you access the help on a given command, for instance the help on `grep`?\n",
    "\n",
    "`grep --help`\n",
    "\n",
    "5. Which command would you use in order to create an empty file in the current directory, let's say `empty.txt`?\n",
    "\n",
    "`touch empty.txt`\n",
    "\n",
    "6. Suppose your current working directory contains a file named `seqs.txt`. How do you rename this file into `sequences.fasta`? Does this have any effect on the content of the file, and if yes, what does it do?\n",
    "\n",
    "`mv seqs.txt sequences.fasta` ; no efffect\n",
    "\n",
    "7. In Unix, how does the extension of a file (the part of the filename after the dot) matter?\n",
    "\n",
    "It doesn't matter\n",
    "\n",
    "8. In Unix, which command will really help you to determine the type of a file (i.e. its type of file content, e.g. whether it is a jpeg-compressed image or a pdf file)?\n",
    "\n",
    "`file <file_name>`\n",
    "\n",
    "9. How can you create in a single command a file containing the contents `\"Hello, world!\"` and named `universal_greeting.txt`?\n",
    "\n",
    "`echo \"Hello, world1\" > universal_greeting.txt`\n",
    "\n",
    "10. What about creating the same file but with filename `universal greeting.txt` (the filename contains a space)?\n",
    "\n",
    "`echo \"Hello, world1\" > \"universal greeting.txt\"`\n",
    "\n",
    "11. In Bash, how do you redirect the output of a command so that it is not displayed on the screen but rather goes into a file?\n",
    "\n",
    "`<input_file> > <output_file>`\n",
    "\n",
    "12. Try this with the command `expr 1 / 0`, whose purpose is to calculate the integer result of 1 divided by 0. What happens? Why?\n",
    "\n",
    "`expr 1 / 0` \n",
    "\n",
    "_expr: division by zero_; invalid operation"
   ]
  },
  {
   "cell_type": "markdown",
   "id": "b38034ae-0b48-4dea-b38b-bf338b152e87",
   "metadata": {},
   "source": [
    "### ***Exercise 2***\n",
    "15 Jun 2021"
   ]
  },
  {
   "cell_type": "markdown",
   "id": "0ab6aa94-b629-419f-b46a-24a2267e9b9a",
   "metadata": {},
   "source": [
    "\n",
    "\n",
    "\n",
    "## More commandline exercises: simple commands, redirection, pipes, etc\n",
    "\n",
    "In most cases, the questions below are independent of each other. Many questions accept different ways to address them (which means several \"right answers\"). Some of these questions are a bit advanced and require tools you will see only in the next session, so please don't worry if you can't answer some of them. But you can also **learn new commands** by using the hints given and browse the corresponding manpages: `man` is your one ever-faithful, reliable friend in the Unix world.\n",
    "\n",
    "\n",
    "  1. How can you use the commandline (on whichever machine you are now, that is connected to the internet) to download directly the file at `https://github.com/eanbit-rt/IntroductoryLinux-2019/blob/master/Data/nrf1_seq.fa`? See `wget` or `curl` and their manpages. Be careful, you need to get the raw text file itself, not the full HTML page presenting it.\n",
    "  \n",
    "  use the uri (raw file location) \n",
    "  \n",
    "  `wget https://raw.githubusercontent.com/eanbit-rt/IntroductoryLinux-2019/master/Data/nrf1_seq.fa`\n",
    "\n",
    "  2. Change the rights of the file so that you can only read from it and no-one else can do anything with it.\n",
    "  \n",
    "  `chmod 400 nrf1_seq.fa`\n",
    "\n",
    "  3. How can you count the number of lines in this text file? How do you count the number of sequences?\n",
    "  \n",
    "  `wc -l nrf1_seq.fa | cut -d\\  -f1`\n",
    "  \n",
    "  `grep -e '>' nrf1_seq.fa | wc -l`\n",
    "\n",
    "  4. Extract only the identifier lines from this file, and write them into a file called `identifiers.txt`.\n",
    "  \n",
    "  `grep -e '>' nrf1_seq.fa > identifiers.txt`\n",
    "\n",
    "  5. How to write a Bash commandline producing all the integers from 1 to 30, one per line?\n",
    "  \n",
    "  `seq 1 1 30`\n",
    "\n",
    "  6. Create a file called `trial1` and rename it into `trial1.data`.\n",
    "  \n",
    "  `touch trial1 ; mv trial1 trial1.data`\n",
    "\n",
    "  7. Create at once 20 files called `trial1` to `trial20` and *then* rename them all by appending the suffix `.data` to their filenames. Of course, don't issue 20 commands, but just one. (Hint: string variable manipulations and loops)\n",
    "  \n",
    "  `for i in $(seq 1 1 20); do touch file${i}.data ; done`\n",
    "  \n",
    "  `touch trial{1..20}; for file in trial*.fasta; do mv ${file} ${file%fasta}fastq; done`\n",
    "\n",
    "  8. How can you separately redirect the standard output and the standard error streams into two separate files?\n",
    "  \n",
    "  `1>std_output` #avoid spaces between digits and angle brackets\n",
    "  \n",
    "  `2>std_error`\n",
    "\n",
    "  9. How can you process the file you got from question 10 to replace all its uppercase \"A\" letters into lowercase \"a\" letters, leaving the rest untouched? (Hint: `tr`)\n",
    "  \n",
    "  `cat <file_name> | tr A a` #tr does not work on files\n",
    "\n",
    "  10. In one command, ask for the display of all identifier lines from the same file `nrf1_seq.fa` without wrapping the lines, i.e. by having all lines displayed on your screen effectively start with the character `>`. (Hint: `less`)\n",
    "  \n",
    "  `less -S nrf1_seq.fa`\n",
    "\n",
    "  11. Can you write a very short script (possibly one single commandline) to extract from the same file the species names? (Hint: `cut`, `grep`)\n",
    "  \n",
    "  `for line in grep -e '>' nrf1_seq.fa; do echo $(cut -d\\  -f2-3 <<< ${line}); done`\n",
    "\n",
    "  12. Once this is done, how to count the species names with their order of multiplicity (i.e. how many sequences belong to *Mus musculus*, how many to *Homo sapiens*, etc)? (Hint: `uniq`)\n",
    "  \n",
    "`sort identifiers.txt | uniq -c`\n",
    "  "
   ]
  },
  {
   "cell_type": "markdown",
   "id": "b523e264-6a89-454b-bc11-dc7d6baa4f3b",
   "metadata": {},
   "source": [
    "### ***Exercise 3***\n",
    "\n",
    "16 Jun 2021"
   ]
  },
  {
   "cell_type": "markdown",
   "id": "5fc3a03e-c0ab-4ac0-b89f-e8034cb7fdf6",
   "metadata": {},
   "source": [
    "UNIX commandline exercises on a Fasta file\n",
    "================\n",
    "\n",
    "This is a simple set of exercises designed to help bioinformatics learners gain confidence in dealing with the command line in UNIX environments. Simple UNIX command line tools are used.\n",
    "\n",
    "The FASTA format\n",
    "----------------\n",
    "\n",
    "The FASTA format is the simplest format for biological sequences (DNA, RNA or proteins). A file in FASTA format is a simple text file containing sequences and lines identifying them: every sequence in FASTA format begins with a single-line description, followed by an arbitrary number of lines of sequence data, in which each character in the file corresponds to a biological character (nucleotide or amino acid). It is recommended that all lines of text be shorter than 80 characters in length, including identifier lines, but you cannot rule out situations in which some lines may be longer.\n",
    "\n",
    "Identifier lines start with the \"greater than\" character (&gt;). There should be no space before that character. The remaining of such a line identifies the following lines.\n",
    "\n",
    "Between two identifier lines there should be at least one line with biological data (sequence of characters). It is an error leading to undetermined behavious to have two consecutive lines starting with a \"&gt;\".\n",
    "\n",
    "Empty lines in a FASTA file do not matter and, when present, it is only for the purpose of readability. Biological sequence data is encoded following the international standard called [the IUPAC alphabet](http://www.bioinformatics.org/sms2/iupac.html).\n",
    "\n",
    "Exercises\n",
    "---------\n",
    "\n",
    "Given the given FASTA file `my_sequences.fa` from this folder, you must answer the following questions using the commandline only (although you are welcome to check you answers by any usable means), and provide the trainer with the commands you used:\n",
    "\n",
    "0.  First things first, downlod the **raw** file `my_sequences.fa` from this GitHub repository using `wget` or `curl`, as we have already done with the previous Fasta file.\n",
    "\n",
    "`wget <uri>`\n",
    "\n",
    "1.  count the number of sequences (hint: `wc`)\n",
    "\n",
    "`grep -c ^> my_sequences.fa`\n",
    "\n",
    "2.  extract all identifiers and store them in a separate file (hint: `grep`)\n",
    "\n",
    "`grep ^> my_sequences.fa > ids.txt`\n",
    "\n",
    "3.  the sequences come from the UniProtKB-SwissProt database. All identifiers follow the same format: `db|UniqueIdentifier|EntryName`, followed by a space and an additional, longer description. Extract the unique identifiers for all the sequences. Store them in a file called `short_identifiers` and check that they are indeed unique (hint: `sort`, `uniq`)\n",
    "\n",
    "`for line in ids.txt; do cut -d'|' -f2 >> short_identifiers; done; sort short_identifiers | uniq`\n",
    "\n",
    "`cut -d '|' -f2 short_identifiers | sort | uniq > short_identifiers`\n",
    "\n",
    "`sort short_identifiers | uniq -d` #returns duplicated\n",
    "\n",
    "4.  extract the raw sequences in a file named `raw_sequences`, without any identifying information and no blank lines. This is somehow the complementary of the \"extract all identifiers\" question. Try and get a count for all the different characters in the data. Hint 1: you will have to get each single character on its own line. See the `-o` option for `grep`. Hint 2: explore the manpage of the `uniq` command.\n",
    "\n",
    "`grep -v -e ^>  -e ^$ my_sequences.fa > raw_sequences.txt`\n",
    "\n",
    "`grep -o \".\" raw_sequences.txt | wc -l`\n",
    "\n",
    "`sort < raw_sequences.txt | uniq -c | sort -k1,1n`# n-sort numerically\n",
    "\n",
    "5.  see the `OS=` tag in each identifier line? It is always followed by the scientific name of the origin species (in two words, separated by a single space). Process these to get the number of different species present in the dataset (Hint: you will have to write a simple regular expression and use grep to parse these).\n",
    "\n",
    "`grep -o 'OS=[A-Za-z]* [a-z]*' ids.txt | sed 's/OS=//' | uniq | wc -l`\n",
    "\n",
    "`grep -o 'OS=[A-Za-z]* [a-z]*' ids.txt | cut -c 4- | sort | uniq | wc -l`# cut -c 3- cuts chr\n",
    "\n",
    "`grep -o 'OS=[^ ]* [^ ]*' ids.txt | cut -c 4- | sort | uniq | wc -l`\n",
    "\n",
    "`grep -oE 'OS=([^= ]* )+' ids.txt | cut -c 4- | sort | uniq | wc -l`\n",
    "\n",
    "6.  try and build a file with 2\\*n lines, where n is the number of sequences: in the file we want, each sequence is on its own line, breaking the \"no more than 80 characters per line\" soft rule. Save this file as `seqs_one_line.fa` (HARD)\n",
    "\n",
    "`for line in raw_sequences.txt; do echo -n ${line}\\n >> seqs_one_line.fa; done`\n",
    "\n",
    "7.  calculate the length of each sequence. Do all sequences have the same length? (HARD)\n",
    "\n",
    "`for line in seqs_one_line.fa; do echo $(expr length ${line}); done`"
   ]
  },
  {
   "cell_type": "markdown",
   "id": "b388188c-c49e-4c41-8a7f-f0c4de9bce0f",
   "metadata": {},
   "source": [
    "### ***Exercise 4***\n",
    "\n",
    "18 Jun 2021"
   ]
  },
  {
   "cell_type": "markdown",
   "id": "815df982-6465-4f1e-ad2b-7dcf673cfebb",
   "metadata": {},
   "source": [
    "Mimicking the Unix utility `wc` with a script\n",
    "======================\n",
    "\n",
    "The idea for this exercise came from Sana Adam who said on Thursday \"Sir, we could ask for the user input!\" ;-)\n",
    "\n",
    "We are going to emulate the behaviour of the `wc` command with a Bash script. The input will be the user input.\n",
    "\n",
    "How to get the user input into a variable\n",
    "--------\n",
    "\n",
    "In Bash, we use the built-in utility `read` in order to read a line from the user input on the keyboard: the command `read b` gets the input from the standard input stream (usually fed from the keyboard) and stores into the variable `b` whatever you type until you press `Enter` (of course, *you* choose the name of the variable to write into).\n",
    "\n",
    "\n",
    "The exercise\n",
    "-------\n",
    "\n",
    "1. Write a small shell program that asks for the user input, and then reports in a user-friendly way a message telling the number of words and the number of characters in the input, e.g. \"The input contained xx words, yy characters in total.\"\n",
    "\n",
    "2. Add the line `#!/bin/bash` as the first line of your script, change its name to `wc` and change its permissions so that you can run it directly as an executable file, without having to pass it as an argument to a `bash` command.\n",
    "\n",
    "3. Run you program. What happens when you type `wc`? And what when you type `./wc`? "
   ]
  },
  {
   "cell_type": "code",
   "execution_count": 1,
   "id": "58a161ae-9e86-4099-b830-4c603a487325",
   "metadata": {},
   "outputs": [
    {
     "name": "stdout",
     "output_type": "stream",
     "text": [
      "Please enter a string:\n",
      "You have entered \"# we have performed our prompt+input using two commands\", which contains 55 characters and 9 words in total.\n"
     ]
    }
   ],
   "source": [
    "%%bash\n",
    "#!/bin/bash\n",
    "echo \"Please enter a string:\"\n",
    "read input_string\n",
    "# we have performed our prompt+input using two commands\n",
    "# but we could have used the -p option to 'read' \n",
    "num_chars=${#input_string}\n",
    "num_words=$( echo \"${input_string}\" | grep -o '[^ ]*' | grep -c '' )\n",
    "echo \"You have entered \\\"${input_string}\\\", which contains ${num_chars} characters and ${num_words} words in total.\""
   ]
  },
  {
   "cell_type": "markdown",
   "id": "d314fe8a-d999-4364-8ef1-c78b51a25140",
   "metadata": {},
   "source": [
    "### ***Exercise 5***\n",
    "\n",
    "21 Jun 2021"
   ]
  },
  {
   "cell_type": "markdown",
   "id": "9207dcc3-2c07-43dc-8f08-15c71c7f91cf",
   "metadata": {},
   "source": [
    "## Extracting the branch lengths from a phylogenetic tree\n",
    "\n",
    "Phylogenetic trees are most commonly stored into a Newick/New Hampshire file. Such files are raw text files where information is encoded in a parenthesized form (see [this rather old page by Joe Felsenstein](https://evolution.genetics.washington.edu/phylip/newicktree.html) or [this Wikipedia page about the file format](https://en.wikipedia.org/wiki/Newick_format)). The NHX format stands for \"New Hampshire eXtended\", and adds the possibility to use tags of different types within square brackets.\n",
    "\n",
    "In a Newick or NHX tree file, branch lengths (when they exist) immediately follow a colon (`:`) character. They can be written either in usual floating point decimal notation (e.g. `0.077429`), or in scientific notation (e.g. `1e-06`).\n",
    "\n",
    "  1. In the file `phyldog.nhx`, grep all the branch lengths. How many branches are there?\n",
    "\n",
    "  2. Get the range of the branch lengths: what is the minimum branch length and the maximum branch length? Write a small program that outputs those two values, and that would work as well on huge trees with thousands of taxa.\n",
    "\n",
    "  3. In phylogenetics, the **tree length** is the sum of all the branch lengths in that tree. While pure, \"basic\" Bash only handles integer arithmetics through e.g. the `expr` command, it is possible to do non-integer arithmetics via the use of the `bc` utility (which stands for \"**b**asic **c**alculator\"). Just pass the expression to calculate to the standard input of `bc`, like so:\n",
    "\n",
    "> $ echo \"(0.003 + 0.456) * (-37)\" | bc -l\n",
    "\n",
    "> -16.983\n",
    "\n",
    "Calculate the tree length for the tree in `phyldog.nhx`. As `bc` doesn't understand the scientific notation, we can leave the (small) branch lengths written in scientific notation for now, under we see ways to a more satisfactory solution.\n",
    "\n",
    "\n",
    "## GC content from a Fasta file\n",
    "\n",
    "The GC content for one or a set of sequence(s) is usually expressed as a percentage, corresponding to the ratio of guanine and cytosine characters over the total number of characters in a sequence.\n",
    "\n",
    "  4. Write a  script that takes as input a (nucleotide) Fasta file given as the first and only commandline argument for the script, and outputs its overall GC content. You can use the `nrf1_seq.fa` file to test this. Here, \"overall\" means that your script will return only one GC-content value for all the input file.\n",
    "\n",
    "  5. Modify your script so that it yields one GC content value per sequence, and so that, after reporting the individual GC contents, it tells the user, through two additional sentences, which sequence is the more GC-rich, and which sequence the most AT-rich. In this report, sequences will be identified by the part of their identifier line preceding the first space on that line. In `nrf1_seq.fa`, these are accession numbers."
   ]
  },
  {
   "cell_type": "code",
   "execution_count": 7,
   "id": "4b95d11d-909e-4b7b-8c2d-6b215aa6edf7",
   "metadata": {},
   "outputs": [
    {
     "data": {
      "text/plain": [
       "'COVC002356-'"
      ]
     },
     "execution_count": 7,
     "metadata": {},
     "output_type": "execute_result"
    }
   ],
   "source": [
    "'COVC002356-RZXXYACBKFDHYWOIQLMSOPZHFTEVQCX'.rstrip('ABCDEFGHIJKLMNOPQRSTUVWXYZ')"
   ]
  },
  {
   "cell_type": "code",
   "execution_count": 5,
   "id": "5efb1b6f-87a5-4555-ac0d-5c4f3dc27148",
   "metadata": {},
   "outputs": [
    {
     "name": "stdout",
     "output_type": "stream",
     "text": [
      "ABCDEFGHIJKLMNOPQRSTUVWXYZ"
     ]
    }
   ],
   "source": [
    "for c in range(65, 91):\n",
    "        print(chr(c), end='')"
   ]
  },
  {
   "cell_type": "code",
   "execution_count": 24,
   "id": "b3c9c38a-0bec-4cf4-abfe-372340abcf4a",
   "metadata": {},
   "outputs": [],
   "source": [
    "import numpy as np\n",
    "array = np.array(np.linspace(-1, 1, 200)).reshape(20, 10)"
   ]
  },
  {
   "cell_type": "code",
   "execution_count": 25,
   "id": "b7e5e0a1-3f3b-4a10-a1d9-62190262b30a",
   "metadata": {},
   "outputs": [
    {
     "data": {
      "text/plain": [
       "array([[-1.        , -0.98994975, -0.9798995 , -0.96984925, -0.95979899,\n",
       "        -0.94974874, -0.93969849, -0.92964824, -0.91959799, -0.90954774],\n",
       "       [-0.89949749, -0.88944724, -0.87939698, -0.86934673, -0.85929648,\n",
       "        -0.84924623, -0.83919598, -0.82914573, -0.81909548, -0.80904523],\n",
       "       [-0.79899497, -0.78894472, -0.77889447, -0.76884422, -0.75879397,\n",
       "        -0.74874372, -0.73869347, -0.72864322, -0.71859296, -0.70854271],\n",
       "       [-0.69849246, -0.68844221, -0.67839196, -0.66834171, -0.65829146,\n",
       "        -0.64824121, -0.63819095, -0.6281407 , -0.61809045, -0.6080402 ],\n",
       "       [-0.59798995, -0.5879397 , -0.57788945, -0.5678392 , -0.55778894,\n",
       "        -0.54773869, -0.53768844, -0.52763819, -0.51758794, -0.50753769],\n",
       "       [-0.49748744, -0.48743719, -0.47738693, -0.46733668, -0.45728643,\n",
       "        -0.44723618, -0.43718593, -0.42713568, -0.41708543, -0.40703518],\n",
       "       [-0.39698492, -0.38693467, -0.37688442, -0.36683417, -0.35678392,\n",
       "        -0.34673367, -0.33668342, -0.32663317, -0.31658291, -0.30653266],\n",
       "       [-0.29648241, -0.28643216, -0.27638191, -0.26633166, -0.25628141,\n",
       "        -0.24623116, -0.2361809 , -0.22613065, -0.2160804 , -0.20603015],\n",
       "       [-0.1959799 , -0.18592965, -0.1758794 , -0.16582915, -0.15577889,\n",
       "        -0.14572864, -0.13567839, -0.12562814, -0.11557789, -0.10552764],\n",
       "       [-0.09547739, -0.08542714, -0.07537688, -0.06532663, -0.05527638,\n",
       "        -0.04522613, -0.03517588, -0.02512563, -0.01507538, -0.00502513],\n",
       "       [ 0.00502513,  0.01507538,  0.02512563,  0.03517588,  0.04522613,\n",
       "         0.05527638,  0.06532663,  0.07537688,  0.08542714,  0.09547739],\n",
       "       [ 0.10552764,  0.11557789,  0.12562814,  0.13567839,  0.14572864,\n",
       "         0.15577889,  0.16582915,  0.1758794 ,  0.18592965,  0.1959799 ],\n",
       "       [ 0.20603015,  0.2160804 ,  0.22613065,  0.2361809 ,  0.24623116,\n",
       "         0.25628141,  0.26633166,  0.27638191,  0.28643216,  0.29648241],\n",
       "       [ 0.30653266,  0.31658291,  0.32663317,  0.33668342,  0.34673367,\n",
       "         0.35678392,  0.36683417,  0.37688442,  0.38693467,  0.39698492],\n",
       "       [ 0.40703518,  0.41708543,  0.42713568,  0.43718593,  0.44723618,\n",
       "         0.45728643,  0.46733668,  0.47738693,  0.48743719,  0.49748744],\n",
       "       [ 0.50753769,  0.51758794,  0.52763819,  0.53768844,  0.54773869,\n",
       "         0.55778894,  0.5678392 ,  0.57788945,  0.5879397 ,  0.59798995],\n",
       "       [ 0.6080402 ,  0.61809045,  0.6281407 ,  0.63819095,  0.64824121,\n",
       "         0.65829146,  0.66834171,  0.67839196,  0.68844221,  0.69849246],\n",
       "       [ 0.70854271,  0.71859296,  0.72864322,  0.73869347,  0.74874372,\n",
       "         0.75879397,  0.76884422,  0.77889447,  0.78894472,  0.79899497],\n",
       "       [ 0.80904523,  0.81909548,  0.82914573,  0.83919598,  0.84924623,\n",
       "         0.85929648,  0.86934673,  0.87939698,  0.88944724,  0.89949749],\n",
       "       [ 0.90954774,  0.91959799,  0.92964824,  0.93969849,  0.94974874,\n",
       "         0.95979899,  0.96984925,  0.9798995 ,  0.98994975,  1.        ]])"
      ]
     },
     "execution_count": 25,
     "metadata": {},
     "output_type": "execute_result"
    }
   ],
   "source": [
    "array"
   ]
  },
  {
   "cell_type": "code",
   "execution_count": 27,
   "id": "9810f297-a51e-463c-8204-e95719371c4b",
   "metadata": {},
   "outputs": [
    {
     "data": {
      "text/plain": [
       "array([-1.        , -0.98994975, -0.9798995 , -0.96984925, -0.95979899,\n",
       "       -0.94974874, -0.93969849, -0.92964824, -0.91959799, -0.90954774])"
      ]
     },
     "execution_count": 27,
     "metadata": {},
     "output_type": "execute_result"
    }
   ],
   "source": [
    "array[0, :]"
   ]
  },
  {
   "cell_type": "code",
   "execution_count": 28,
   "id": "f2a37b90-48f6-4856-90b4-a3536adc8ec4",
   "metadata": {},
   "outputs": [
    {
     "data": {
      "text/plain": [
       "array([-0.89949749, -0.88944724, -0.87939698, -0.86934673, -0.85929648,\n",
       "       -0.84924623, -0.83919598, -0.82914573, -0.81909548, -0.80904523])"
      ]
     },
     "execution_count": 28,
     "metadata": {},
     "output_type": "execute_result"
    }
   ],
   "source": [
    "array[1,:]"
   ]
  },
  {
   "cell_type": "code",
   "execution_count": 9,
   "id": "57cbea4c-bdfa-42a2-931d-96f910c78e02",
   "metadata": {},
   "outputs": [
    {
     "data": {
      "text/plain": [
       "(20, 10)"
      ]
     },
     "execution_count": 9,
     "metadata": {},
     "output_type": "execute_result"
    }
   ],
   "source": [
    "array.shape"
   ]
  }
 ],
 "metadata": {
  "kernelspec": {
   "display_name": "Python 3",
   "language": "python",
   "name": "python3"
  },
  "language_info": {
   "codemirror_mode": {
    "name": "ipython",
    "version": 3
   },
   "file_extension": ".py",
   "mimetype": "text/x-python",
   "name": "python",
   "nbconvert_exporter": "python",
   "pygments_lexer": "ipython3",
   "version": "3.8.5"
  }
 },
 "nbformat": 4,
 "nbformat_minor": 5
}
